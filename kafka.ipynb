{
 "cells": [
  {
   "cell_type": "raw",
   "id": "dea697fc-1414-4ad5-934a-603ca1223198",
   "metadata": {},
   "source": [
    "-- start zookeeper \n",
    "\n",
    "zookeeper-server-start /opt/homebrew/etc/kafka/zookeeper.properties\n",
    "\n",
    "-- start kafka\n",
    "\n",
    "kafka-server-start /opt/homebrew/etc/kafka/server.properties\n",
    "\n",
    "-- start topic\n",
    "\n",
    "kafka-topics --create --bootstrap-server localhost:9092 --replication-factor 1 --partitions 1 --topic topic_name\n",
    "\n",
    "-- when topic is created we can test our producer and consumer api - open 2 terminal\n",
    "\n",
    "kafka producer console - kafka-console-producer --broker-list localhost:9092 --topic foobar\n",
    "\n",
    "kafka consumer console - kafka-console-consumer --bootstrap-server localhost:9092 --topic foobar --from-beginning"
   ]
  },
  {
   "cell_type": "code",
   "execution_count": 1,
   "id": "12d66865-b452-4b0b-8248-953c81c7094a",
   "metadata": {
    "tags": []
   },
   "outputs": [
    {
     "name": "stdout",
     "output_type": "stream",
     "text": [
      "<cimpl.Producer object at 0x11036da90>\n"
     ]
    }
   ],
   "source": [
    "from confluent_kafka import Producer\n",
    "import socket\n",
    "import json\n",
    "\n",
    "conf = {'bootstrap.servers': \"localhost:9092\",\n",
    "        'client.id': socket.gethostname()}\n",
    "\n",
    "p = Producer(conf)\n",
    "print(p)"
   ]
  },
  {
   "cell_type": "code",
   "execution_count": 2,
   "id": "8a6ac75b-9260-45d1-8094-8d130ede0cd5",
   "metadata": {},
   "outputs": [],
   "source": [
    "a=[1,2,3,4,5,6,7,8,9]"
   ]
  },
  {
   "cell_type": "code",
   "execution_count": 3,
   "id": "e1fb32cf-d49e-495e-8889-f65db8f57ca8",
   "metadata": {
    "tags": []
   },
   "outputs": [
    {
     "name": "stdout",
     "output_type": "stream",
     "text": [
      "message sent 0\n",
      "message sent 1\n",
      "message sent 2\n",
      "message sent 3\n",
      "message sent 4\n",
      "message sent 5\n",
      "message sent 6\n",
      "message sent 7\n",
      "message sent 8\n"
     ]
    }
   ],
   "source": [
    "for i in range(len(a)):\n",
    "    p.produce('foobar', json.dumps(a[i]).encode('utf-8'))\n",
    "    print('message sent', i)"
   ]
  },
  {
   "cell_type": "code",
   "execution_count": 4,
   "id": "6f35c955-8945-4d3b-a1a3-8ca4f7b6bfa6",
   "metadata": {
    "tags": []
   },
   "outputs": [
    {
     "data": {
      "text/plain": [
       "0"
      ]
     },
     "execution_count": 4,
     "metadata": {},
     "output_type": "execute_result"
    }
   ],
   "source": [
    "def acked(err, msg):\n",
    "    if err is not None:\n",
    "        print(\"Failed to deliver message: %s: %s\" % (str(msg), str(err)))\n",
    "    else:\n",
    "        print(\"Message produced: %s\" % (str(msg)))\n",
    "\n",
    "p.produce('foobar', value='mark2')\n",
    "\n",
    "p.poll(1)\n",
    "p.flush()"
   ]
  },
  {
   "cell_type": "code",
   "execution_count": 5,
   "id": "e2165b03-592d-43e5-b030-d72fb59143d6",
   "metadata": {
    "tags": []
   },
   "outputs": [
    {
     "name": "stdout",
     "output_type": "stream",
     "text": [
      "{'foobar': TopicMetadata(foobar, 1 partitions), 'new': TopicMetadata(new, 1 partitions), 'foobarrrrr': TopicMetadata(foobarrrrr, 1 partitions), '__consumer_offsets': TopicMetadata(__consumer_offsets, 50 partitions)}\n"
     ]
    }
   ],
   "source": [
    "topics_info = p.list_topics()\n",
    "print(topics_info.topics)"
   ]
  },
  {
   "cell_type": "code",
   "execution_count": 6,
   "id": "fa4b8f0b-3aac-4354-b562-d12716816d62",
   "metadata": {},
   "outputs": [],
   "source": [
    "from confluent_kafka import Consumer\n",
    "\n",
    "conf = {'bootstrap.servers': \"localhost:9092\",\n",
    "        'group.id': \"foobar\",\n",
    "        'auto.offset.reset': 'earliest'}\n",
    "\n",
    "consumer = Consumer(conf)"
   ]
  },
  {
   "cell_type": "code",
   "execution_count": 7,
   "id": "8857a294-1cdd-4793-92f0-e60f45128c8d",
   "metadata": {},
   "outputs": [
    {
     "name": "stdout",
     "output_type": "stream",
     "text": [
      "<cimpl.Consumer object at 0x110369e00>\n"
     ]
    }
   ],
   "source": [
    "print(consumer)"
   ]
  },
  {
   "cell_type": "code",
   "execution_count": 8,
   "id": "1123562f-381f-4302-ae9e-9772bccf1565",
   "metadata": {},
   "outputs": [],
   "source": [
    "consumer.subscribe(['foobar'])"
   ]
  },
  {
   "cell_type": "code",
   "execution_count": null,
   "id": "7815b466-8df9-4cbd-8ecf-e68ce91b6f9e",
   "metadata": {},
   "outputs": [
    {
     "name": "stdout",
     "output_type": "stream",
     "text": [
      "1\n",
      "2\n",
      "3\n",
      "4\n",
      "5\n",
      "6\n",
      "7\n",
      "8\n",
      "9\n",
      "mark2\n"
     ]
    }
   ],
   "source": [
    "while True:\n",
    "    msg = consumer.poll()\n",
    "    if msg is None:\n",
    "        print('message unavailable')\n",
    "        continue\n",
    "    if msg.error():\n",
    "        print('message error', msg.error())\n",
    "        continue\n",
    "        \n",
    "    print(msg.value().decode('utf-8'))"
   ]
  },
  {
   "cell_type": "code",
   "execution_count": null,
   "id": "a57964c2-a1d5-4326-8e27-ac7c8f0ad56a",
   "metadata": {},
   "outputs": [],
   "source": []
  }
 ],
 "metadata": {
  "kernelspec": {
   "display_name": "Python 3 (ipykernel)",
   "language": "python",
   "name": "python3"
  },
  "language_info": {
   "codemirror_mode": {
    "name": "ipython",
    "version": 3
   },
   "file_extension": ".py",
   "mimetype": "text/x-python",
   "name": "python",
   "nbconvert_exporter": "python",
   "pygments_lexer": "ipython3",
   "version": "3.9.6"
  }
 },
 "nbformat": 4,
 "nbformat_minor": 5
}
