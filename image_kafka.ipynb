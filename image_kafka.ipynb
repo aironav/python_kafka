{
 "cells": [
  {
   "cell_type": "raw",
   "id": "dea697fc-1414-4ad5-934a-603ca1223198",
   "metadata": {},
   "source": [
    "-- start zookeeper \n",
    "\n",
    "zookeeper-server-start /opt/homebrew/etc/kafka/zookeeper.properties\n",
    "\n",
    "-- start kafka\n",
    "\n",
    "kafka-server-start /opt/homebrew/etc/kafka/server.properties\n",
    "\n",
    "-- start topic\n",
    "\n",
    "kafka-topics --create --bootstrap-server localhost:9092 --replication-factor 1 --partitions 1 --topic topic_name\n",
    "\n",
    "-- when topic is created we can test our producer and consumer api - open 2 terminal\n",
    "\n",
    "kafka producer console - kafka-console-producer --broker-list localhost:9092 --topic foobar\n",
    "\n",
    "kafka consumer console - kafka-console-consumer --bootstrap-server localhost:9092 --topic foobar --from-beginning"
   ]
  },
  {
   "cell_type": "code",
   "execution_count": 1,
   "id": "12d66865-b452-4b0b-8248-953c81c7094a",
   "metadata": {
    "tags": []
   },
   "outputs": [
    {
     "name": "stdout",
     "output_type": "stream",
     "text": [
      "<cimpl.Producer object at 0x1055d1510>\n"
     ]
    }
   ],
   "source": [
    "from confluent_kafka import Producer\n",
    "import socket\n",
    "import json\n",
    "\n",
    "conf = {'bootstrap.servers': \"localhost:9092\",\n",
    "        'client.id': socket.gethostname()}\n",
    "\n",
    "p = Producer(conf)\n",
    "print(p)"
   ]
  },
  {
   "cell_type": "code",
   "execution_count": 2,
   "id": "8a6ac75b-9260-45d1-8094-8d130ede0cd5",
   "metadata": {},
   "outputs": [],
   "source": [
    "a=[]"
   ]
  },
  {
   "cell_type": "code",
   "execution_count": 3,
   "id": "5d0396e3-2e16-40f7-93e0-fae89ebe20e5",
   "metadata": {},
   "outputs": [
    {
     "ename": "FileNotFoundError",
     "evalue": "[Errno 2] No such file or directory: 'text.jpeg'",
     "output_type": "error",
     "traceback": [
      "\u001b[0;31m---------------------------------------------------------------------------\u001b[0m",
      "\u001b[0;31mFileNotFoundError\u001b[0m                         Traceback (most recent call last)",
      "Cell \u001b[0;32mIn [3], line 2\u001b[0m\n\u001b[1;32m      1\u001b[0m \u001b[38;5;28;01mimport\u001b[39;00m \u001b[38;5;21;01mbase64\u001b[39;00m\n\u001b[0;32m----> 2\u001b[0m \u001b[38;5;28;01mwith\u001b[39;00m \u001b[38;5;28;43mopen\u001b[39;49m\u001b[43m(\u001b[49m\u001b[38;5;124;43m\"\u001b[39;49m\u001b[38;5;124;43mtext.jpeg\u001b[39;49m\u001b[38;5;124;43m\"\u001b[39;49m\u001b[43m,\u001b[49m\u001b[43m \u001b[49m\u001b[38;5;124;43m\"\u001b[39;49m\u001b[38;5;124;43mrb\u001b[39;49m\u001b[38;5;124;43m\"\u001b[39;49m\u001b[43m)\u001b[49m \u001b[38;5;28;01mas\u001b[39;00m img_file:\n\u001b[1;32m      3\u001b[0m     my_string \u001b[38;5;241m=\u001b[39m base64\u001b[38;5;241m.\u001b[39mb64encode(img_file\u001b[38;5;241m.\u001b[39mread())\n\u001b[1;32m      4\u001b[0m a\u001b[38;5;241m.\u001b[39mappend(my_string\u001b[38;5;241m.\u001b[39mdecode(\u001b[38;5;124m'\u001b[39m\u001b[38;5;124mutf-8\u001b[39m\u001b[38;5;124m'\u001b[39m))\n",
      "\u001b[0;31mFileNotFoundError\u001b[0m: [Errno 2] No such file or directory: 'text.jpeg'"
     ]
    }
   ],
   "source": [
    "import base64\n",
    "with open(\"text.png\", \"rb\") as img_file:\n",
    "    my_string = base64.b64encode(img_file.read())\n",
    "a.append(my_string.decode('utf-8'))"
   ]
  },
  {
   "cell_type": "code",
   "execution_count": 4,
   "id": "09e85b58-c874-43f4-b0f4-b23377257adb",
   "metadata": {},
   "outputs": [
    {
     "data": {
      "text/plain": [
       "[]"
      ]
     },
     "execution_count": 4,
     "metadata": {},
     "output_type": "execute_result"
    }
   ],
   "source": [
    "a"
   ]
  },
  {
   "cell_type": "code",
   "execution_count": 5,
   "id": "e1fb32cf-d49e-495e-8889-f65db8f57ca8",
   "metadata": {
    "tags": []
   },
   "outputs": [
    {
     "name": "stdout",
     "output_type": "stream",
     "text": [
      "message sent 0\n"
     ]
    }
   ],
   "source": [
    "for i in range(len(a)):\n",
    "    p.produce('foobar', json.dumps(a[i]).encode('utf-8'))\n",
    "    print('message sent', i)\n",
    "# p.produce('foobar', value= 'example')"
   ]
  },
  {
   "cell_type": "code",
   "execution_count": 6,
   "id": "6f35c955-8945-4d3b-a1a3-8ca4f7b6bfa6",
   "metadata": {
    "tags": []
   },
   "outputs": [
    {
     "data": {
      "text/plain": [
       "1"
      ]
     },
     "execution_count": 6,
     "metadata": {},
     "output_type": "execute_result"
    }
   ],
   "source": [
    "def acked(err, msg):\n",
    "    if err is not None:\n",
    "        print(\"Failed to deliver message: %s: %s\" % (str(msg), str(err)))\n",
    "    else:\n",
    "        print(\"Message produced: %s\" % (str(msg)))\n",
    "\n",
    "p.produce('foobar', value=\"test2\")\n",
    "\n",
    "p.poll(1)"
   ]
  },
  {
   "cell_type": "code",
   "execution_count": 7,
   "id": "e2165b03-592d-43e5-b030-d72fb59143d6",
   "metadata": {
    "tags": []
   },
   "outputs": [
    {
     "name": "stdout",
     "output_type": "stream",
     "text": [
      "{'foobar': TopicMetadata(foobar, 1 partitions), 'new': TopicMetadata(new, 1 partitions), 'foobarrrrr': TopicMetadata(foobarrrrr, 1 partitions), '__consumer_offsets': TopicMetadata(__consumer_offsets, 50 partitions)}\n"
     ]
    }
   ],
   "source": [
    "topics_info = p.list_topics()\n",
    "print(topics_info.topics)"
   ]
  },
  {
   "cell_type": "code",
   "execution_count": 8,
   "id": "fa4b8f0b-3aac-4354-b562-d12716816d62",
   "metadata": {},
   "outputs": [],
   "source": [
    "from confluent_kafka import Consumer\n",
    "\n",
    "conf = {'bootstrap.servers': \"localhost:9092\",\n",
    "        'group.id': \"foobar\",\n",
    "        'auto.offset.reset': 'earliest'}\n",
    "\n",
    "consumer = Consumer(conf)"
   ]
  },
  {
   "cell_type": "code",
   "execution_count": 9,
   "id": "8857a294-1cdd-4793-92f0-e60f45128c8d",
   "metadata": {},
   "outputs": [
    {
     "name": "stdout",
     "output_type": "stream",
     "text": [
      "<cimpl.Consumer object at 0x103df5930>\n"
     ]
    }
   ],
   "source": [
    "print(consumer)"
   ]
  },
  {
   "cell_type": "code",
   "execution_count": 10,
   "id": "1123562f-381f-4302-ae9e-9772bccf1565",
   "metadata": {},
   "outputs": [],
   "source": [
    "consumer.subscribe(['foobar'])"
   ]
  },
  {
   "cell_type": "code",
   "execution_count": 12,
   "id": "a57964c2-a1d5-4326-8e27-ac7c8f0ad56a",
   "metadata": {},
   "outputs": [],
   "source": [
    "from io import BytesIO\n",
    "from PIL import Image\n",
    "msg = consumer.poll()\n",
    "msg = msg.value()\n",
    "msg = msg.decode(\"utf-8\")\n",
    "im = Image.open(BytesIO(base64.b64decode(msg)))\n",
    "im.save('a.png', 'PNG')"
   ]
  },
  {
   "cell_type": "code",
   "execution_count": 13,
   "id": "dbdf9aa6-2cbb-4f40-bc72-f328a64a09a6",
   "metadata": {},
   "outputs": [],
   "source": [
    "from pytesseract import image_to_string\n",
    "output = image_to_string(Image.open(\"a.png\"),config = \"--oem 3 --psm 6\",lang =\"eng\")"
   ]
  },
  {
   "cell_type": "code",
   "execution_count": 14,
   "id": "f7373b6f-a2c1-4120-ad82-90876af1f77b",
   "metadata": {},
   "outputs": [
    {
     "data": {
      "text/plain": [
       "'Test image\\n'"
      ]
     },
     "execution_count": 14,
     "metadata": {},
     "output_type": "execute_result"
    },
    {
     "name": "stderr",
     "output_type": "stream",
     "text": [
      "%4|1663233147.052|MAXPOLL|rdkafka#consumer-2| [thrd:main]: Application maximum poll interval (300000ms) exceeded by 18ms (adjust max.poll.interval.ms for long-running message processing): leaving group\n"
     ]
    }
   ],
   "source": [
    "output"
   ]
  }
 ],
 "metadata": {
  "kernelspec": {
   "display_name": "Python 3 (ipykernel)",
   "language": "python",
   "name": "python3"
  },
  "language_info": {
   "codemirror_mode": {
    "name": "ipython",
    "version": 3
   },
   "file_extension": ".py",
   "mimetype": "text/x-python",
   "name": "python",
   "nbconvert_exporter": "python",
   "pygments_lexer": "ipython3",
   "version": "3.9.6"
  }
 },
 "nbformat": 4,
 "nbformat_minor": 5
}
